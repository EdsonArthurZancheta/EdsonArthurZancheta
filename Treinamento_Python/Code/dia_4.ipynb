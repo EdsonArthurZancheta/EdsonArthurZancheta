{
 "cells": [
  {
   "cell_type": "markdown",
   "id": "8604f305-d8e4-472a-aab8-7669d9ad8a58",
   "metadata": {},
   "source": [
    "# AutoML"
   ]
  },
  {
   "cell_type": "code",
   "execution_count": 1,
   "id": "46706393-38db-404d-9611-9f5cd3d56d08",
   "metadata": {
    "scrolled": true
   },
   "outputs": [],
   "source": [
    "#pip install pycaret[full]"
   ]
  },
  {
   "cell_type": "code",
   "execution_count": 2,
   "id": "82dc3981-77ac-4841-961f-7b8519a6257c",
   "metadata": {},
   "outputs": [
    {
     "name": "stdout",
     "output_type": "stream",
     "text": [
      "Requirement already satisfied: shap in c:\\users\\trabalho\\appdata\\local\\packages\\pythonsoftwarefoundation.python.3.11_qbz5n2kfra8p0\\localcache\\local-packages\\python311\\site-packages (0.44.1)\n",
      "Requirement already satisfied: numpy in c:\\users\\trabalho\\appdata\\local\\packages\\pythonsoftwarefoundation.python.3.11_qbz5n2kfra8p0\\localcache\\local-packages\\python311\\site-packages (from shap) (1.26.2)\n",
      "Requirement already satisfied: scipy in c:\\users\\trabalho\\appdata\\local\\packages\\pythonsoftwarefoundation.python.3.11_qbz5n2kfra8p0\\localcache\\local-packages\\python311\\site-packages (from shap) (1.11.4)\n",
      "Requirement already satisfied: scikit-learn in c:\\users\\trabalho\\appdata\\local\\packages\\pythonsoftwarefoundation.python.3.11_qbz5n2kfra8p0\\localcache\\local-packages\\python311\\site-packages (from shap) (1.4.2)\n",
      "Requirement already satisfied: pandas in c:\\users\\trabalho\\appdata\\local\\packages\\pythonsoftwarefoundation.python.3.11_qbz5n2kfra8p0\\localcache\\local-packages\\python311\\site-packages (from shap) (2.1.4)\n",
      "Requirement already satisfied: tqdm>=4.27.0 in c:\\users\\trabalho\\appdata\\local\\packages\\pythonsoftwarefoundation.python.3.11_qbz5n2kfra8p0\\localcache\\local-packages\\python311\\site-packages (from shap) (4.66.4)\n",
      "Requirement already satisfied: packaging>20.9 in c:\\users\\trabalho\\appdata\\local\\packages\\pythonsoftwarefoundation.python.3.11_qbz5n2kfra8p0\\localcache\\local-packages\\python311\\site-packages (from shap) (23.2)\n",
      "Requirement already satisfied: slicer==0.0.7 in c:\\users\\trabalho\\appdata\\local\\packages\\pythonsoftwarefoundation.python.3.11_qbz5n2kfra8p0\\localcache\\local-packages\\python311\\site-packages (from shap) (0.0.7)\n",
      "Requirement already satisfied: numba in c:\\users\\trabalho\\appdata\\local\\packages\\pythonsoftwarefoundation.python.3.11_qbz5n2kfra8p0\\localcache\\local-packages\\python311\\site-packages (from shap) (0.60.0)\n",
      "Requirement already satisfied: cloudpickle in c:\\users\\trabalho\\appdata\\local\\packages\\pythonsoftwarefoundation.python.3.11_qbz5n2kfra8p0\\localcache\\local-packages\\python311\\site-packages (from shap) (3.1.0)\n",
      "Requirement already satisfied: colorama in c:\\users\\trabalho\\appdata\\local\\packages\\pythonsoftwarefoundation.python.3.11_qbz5n2kfra8p0\\localcache\\local-packages\\python311\\site-packages (from tqdm>=4.27.0->shap) (0.4.6)\n",
      "Requirement already satisfied: llvmlite<0.44,>=0.43.0dev0 in c:\\users\\trabalho\\appdata\\local\\packages\\pythonsoftwarefoundation.python.3.11_qbz5n2kfra8p0\\localcache\\local-packages\\python311\\site-packages (from numba->shap) (0.43.0)\n",
      "Requirement already satisfied: python-dateutil>=2.8.2 in c:\\users\\trabalho\\appdata\\local\\packages\\pythonsoftwarefoundation.python.3.11_qbz5n2kfra8p0\\localcache\\local-packages\\python311\\site-packages (from pandas->shap) (2.8.2)\n",
      "Requirement already satisfied: pytz>=2020.1 in c:\\users\\trabalho\\appdata\\local\\packages\\pythonsoftwarefoundation.python.3.11_qbz5n2kfra8p0\\localcache\\local-packages\\python311\\site-packages (from pandas->shap) (2023.3.post1)\n",
      "Requirement already satisfied: tzdata>=2022.1 in c:\\users\\trabalho\\appdata\\local\\packages\\pythonsoftwarefoundation.python.3.11_qbz5n2kfra8p0\\localcache\\local-packages\\python311\\site-packages (from pandas->shap) (2023.3)\n",
      "Requirement already satisfied: joblib>=1.2.0 in c:\\users\\trabalho\\appdata\\local\\packages\\pythonsoftwarefoundation.python.3.11_qbz5n2kfra8p0\\localcache\\local-packages\\python311\\site-packages (from scikit-learn->shap) (1.3.2)\n",
      "Requirement already satisfied: threadpoolctl>=2.0.0 in c:\\users\\trabalho\\appdata\\local\\packages\\pythonsoftwarefoundation.python.3.11_qbz5n2kfra8p0\\localcache\\local-packages\\python311\\site-packages (from scikit-learn->shap) (3.5.0)\n",
      "Requirement already satisfied: six>=1.5 in c:\\users\\trabalho\\appdata\\local\\packages\\pythonsoftwarefoundation.python.3.11_qbz5n2kfra8p0\\localcache\\local-packages\\python311\\site-packages (from python-dateutil>=2.8.2->pandas->shap) (1.16.0)\n"
     ]
    },
    {
     "name": "stderr",
     "output_type": "stream",
     "text": [
      "\n",
      "[notice] A new release of pip is available: 24.0 -> 24.3.1\n",
      "[notice] To update, run: C:\\Users\\Trabalho\\AppData\\Local\\Microsoft\\WindowsApps\\PythonSoftwareFoundation.Python.3.11_qbz5n2kfra8p0\\python.exe -m pip install --upgrade pip\n"
     ]
    }
   ],
   "source": [
    "!pip install shap\n"
   ]
  },
  {
   "cell_type": "markdown",
   "id": "87631332-861d-41eb-8898-e63517d038b3",
   "metadata": {},
   "source": [
    "## Leitura de Dataset \n",
    "Usaremos um dataset simples para demonstrar (você pode substituir pelo seu próprio dataset):"
   ]
  },
  {
   "cell_type": "code",
   "execution_count": 3,
   "id": "cfc1f367-ec70-4a1d-b816-98ed64fc6050",
   "metadata": {},
   "outputs": [],
   "source": [
    "from pycaret.datasets import get_data\n",
    "import pandas as pd \n",
    "# Carregar dataset\n",
    "data = pd.read_csv('data/titanic_processed.csv')  # Exemplo de dados do Titanic\n",
    "data = data[['Sex_bin', 'SibSp', 'Parch', 'Fare', 'Class_1', 'Class_2', 'Class_3', 'AgeCategory_bin', 'Survived']]\n",
    "\n",
    "# Dados brutos\n",
    "#data = get_data('titanic')\n"
   ]
  },
  {
   "cell_type": "markdown",
   "id": "ba5cac1b-1677-4d51-841a-3bbcfb7d74b3",
   "metadata": {},
   "source": [
    "## Configurar o Experimento\n",
    "A configuração do experimento é o coração do PyCaret. Aqui você define o target e as features:"
   ]
  },
  {
   "cell_type": "code",
   "execution_count": 4,
   "id": "3aeebe2c-ea8a-4588-bcfb-d7fd94721904",
   "metadata": {},
   "outputs": [
    {
     "data": {
      "text/html": [
       "<style type=\"text/css\">\n",
       "#T_69c55_row8_col1 {\n",
       "  background-color: lightgreen;\n",
       "}\n",
       "</style>\n",
       "<table id=\"T_69c55\">\n",
       "  <thead>\n",
       "    <tr>\n",
       "      <th class=\"blank level0\" >&nbsp;</th>\n",
       "      <th id=\"T_69c55_level0_col0\" class=\"col_heading level0 col0\" >Description</th>\n",
       "      <th id=\"T_69c55_level0_col1\" class=\"col_heading level0 col1\" >Value</th>\n",
       "    </tr>\n",
       "  </thead>\n",
       "  <tbody>\n",
       "    <tr>\n",
       "      <th id=\"T_69c55_level0_row0\" class=\"row_heading level0 row0\" >0</th>\n",
       "      <td id=\"T_69c55_row0_col0\" class=\"data row0 col0\" >Session id</td>\n",
       "      <td id=\"T_69c55_row0_col1\" class=\"data row0 col1\" >123</td>\n",
       "    </tr>\n",
       "    <tr>\n",
       "      <th id=\"T_69c55_level0_row1\" class=\"row_heading level0 row1\" >1</th>\n",
       "      <td id=\"T_69c55_row1_col0\" class=\"data row1 col0\" >Target</td>\n",
       "      <td id=\"T_69c55_row1_col1\" class=\"data row1 col1\" >Survived</td>\n",
       "    </tr>\n",
       "    <tr>\n",
       "      <th id=\"T_69c55_level0_row2\" class=\"row_heading level0 row2\" >2</th>\n",
       "      <td id=\"T_69c55_row2_col0\" class=\"data row2 col0\" >Target type</td>\n",
       "      <td id=\"T_69c55_row2_col1\" class=\"data row2 col1\" >Binary</td>\n",
       "    </tr>\n",
       "    <tr>\n",
       "      <th id=\"T_69c55_level0_row3\" class=\"row_heading level0 row3\" >3</th>\n",
       "      <td id=\"T_69c55_row3_col0\" class=\"data row3 col0\" >Original data shape</td>\n",
       "      <td id=\"T_69c55_row3_col1\" class=\"data row3 col1\" >(889, 9)</td>\n",
       "    </tr>\n",
       "    <tr>\n",
       "      <th id=\"T_69c55_level0_row4\" class=\"row_heading level0 row4\" >4</th>\n",
       "      <td id=\"T_69c55_row4_col0\" class=\"data row4 col0\" >Transformed data shape</td>\n",
       "      <td id=\"T_69c55_row4_col1\" class=\"data row4 col1\" >(889, 9)</td>\n",
       "    </tr>\n",
       "    <tr>\n",
       "      <th id=\"T_69c55_level0_row5\" class=\"row_heading level0 row5\" >5</th>\n",
       "      <td id=\"T_69c55_row5_col0\" class=\"data row5 col0\" >Transformed train set shape</td>\n",
       "      <td id=\"T_69c55_row5_col1\" class=\"data row5 col1\" >(622, 9)</td>\n",
       "    </tr>\n",
       "    <tr>\n",
       "      <th id=\"T_69c55_level0_row6\" class=\"row_heading level0 row6\" >6</th>\n",
       "      <td id=\"T_69c55_row6_col0\" class=\"data row6 col0\" >Transformed test set shape</td>\n",
       "      <td id=\"T_69c55_row6_col1\" class=\"data row6 col1\" >(267, 9)</td>\n",
       "    </tr>\n",
       "    <tr>\n",
       "      <th id=\"T_69c55_level0_row7\" class=\"row_heading level0 row7\" >7</th>\n",
       "      <td id=\"T_69c55_row7_col0\" class=\"data row7 col0\" >Numeric features</td>\n",
       "      <td id=\"T_69c55_row7_col1\" class=\"data row7 col1\" >5</td>\n",
       "    </tr>\n",
       "    <tr>\n",
       "      <th id=\"T_69c55_level0_row8\" class=\"row_heading level0 row8\" >8</th>\n",
       "      <td id=\"T_69c55_row8_col0\" class=\"data row8 col0\" >Preprocess</td>\n",
       "      <td id=\"T_69c55_row8_col1\" class=\"data row8 col1\" >True</td>\n",
       "    </tr>\n",
       "    <tr>\n",
       "      <th id=\"T_69c55_level0_row9\" class=\"row_heading level0 row9\" >9</th>\n",
       "      <td id=\"T_69c55_row9_col0\" class=\"data row9 col0\" >Imputation type</td>\n",
       "      <td id=\"T_69c55_row9_col1\" class=\"data row9 col1\" >simple</td>\n",
       "    </tr>\n",
       "    <tr>\n",
       "      <th id=\"T_69c55_level0_row10\" class=\"row_heading level0 row10\" >10</th>\n",
       "      <td id=\"T_69c55_row10_col0\" class=\"data row10 col0\" >Numeric imputation</td>\n",
       "      <td id=\"T_69c55_row10_col1\" class=\"data row10 col1\" >mean</td>\n",
       "    </tr>\n",
       "    <tr>\n",
       "      <th id=\"T_69c55_level0_row11\" class=\"row_heading level0 row11\" >11</th>\n",
       "      <td id=\"T_69c55_row11_col0\" class=\"data row11 col0\" >Categorical imputation</td>\n",
       "      <td id=\"T_69c55_row11_col1\" class=\"data row11 col1\" >mode</td>\n",
       "    </tr>\n",
       "    <tr>\n",
       "      <th id=\"T_69c55_level0_row12\" class=\"row_heading level0 row12\" >12</th>\n",
       "      <td id=\"T_69c55_row12_col0\" class=\"data row12 col0\" >Fold Generator</td>\n",
       "      <td id=\"T_69c55_row12_col1\" class=\"data row12 col1\" >StratifiedKFold</td>\n",
       "    </tr>\n",
       "    <tr>\n",
       "      <th id=\"T_69c55_level0_row13\" class=\"row_heading level0 row13\" >13</th>\n",
       "      <td id=\"T_69c55_row13_col0\" class=\"data row13 col0\" >Fold Number</td>\n",
       "      <td id=\"T_69c55_row13_col1\" class=\"data row13 col1\" >10</td>\n",
       "    </tr>\n",
       "    <tr>\n",
       "      <th id=\"T_69c55_level0_row14\" class=\"row_heading level0 row14\" >14</th>\n",
       "      <td id=\"T_69c55_row14_col0\" class=\"data row14 col0\" >CPU Jobs</td>\n",
       "      <td id=\"T_69c55_row14_col1\" class=\"data row14 col1\" >-1</td>\n",
       "    </tr>\n",
       "    <tr>\n",
       "      <th id=\"T_69c55_level0_row15\" class=\"row_heading level0 row15\" >15</th>\n",
       "      <td id=\"T_69c55_row15_col0\" class=\"data row15 col0\" >Use GPU</td>\n",
       "      <td id=\"T_69c55_row15_col1\" class=\"data row15 col1\" >False</td>\n",
       "    </tr>\n",
       "    <tr>\n",
       "      <th id=\"T_69c55_level0_row16\" class=\"row_heading level0 row16\" >16</th>\n",
       "      <td id=\"T_69c55_row16_col0\" class=\"data row16 col0\" >Log Experiment</td>\n",
       "      <td id=\"T_69c55_row16_col1\" class=\"data row16 col1\" >False</td>\n",
       "    </tr>\n",
       "    <tr>\n",
       "      <th id=\"T_69c55_level0_row17\" class=\"row_heading level0 row17\" >17</th>\n",
       "      <td id=\"T_69c55_row17_col0\" class=\"data row17 col0\" >Experiment Name</td>\n",
       "      <td id=\"T_69c55_row17_col1\" class=\"data row17 col1\" >clf-default-name</td>\n",
       "    </tr>\n",
       "    <tr>\n",
       "      <th id=\"T_69c55_level0_row18\" class=\"row_heading level0 row18\" >18</th>\n",
       "      <td id=\"T_69c55_row18_col0\" class=\"data row18 col0\" >USI</td>\n",
       "      <td id=\"T_69c55_row18_col1\" class=\"data row18 col1\" >1a1c</td>\n",
       "    </tr>\n",
       "  </tbody>\n",
       "</table>\n"
      ],
      "text/plain": [
       "<pandas.io.formats.style.Styler at 0x228890eff50>"
      ]
     },
     "metadata": {},
     "output_type": "display_data"
    },
    {
     "name": "stdout",
     "output_type": "stream",
     "text": [
      "<pycaret.classification.oop.ClassificationExperiment object at 0x000002286763F590>\n"
     ]
    }
   ],
   "source": [
    "from pycaret.classification import *\n",
    "\n",
    "# Configuração inicial\n",
    "clf = setup(data=data, target='Survived', session_id=123)\n",
    "\n",
    "# Visualização inicial\n",
    "print(clf)\n"
   ]
  },
  {
   "cell_type": "markdown",
   "id": "3ab44aa9-03e3-473f-8d7b-5dc2147eb9cf",
   "metadata": {},
   "source": [
    "# Treinar e Comparar Modelos\n",
    "PyCaret compara diferentes modelos automaticamente e mostra o melhor."
   ]
  },
  {
   "cell_type": "code",
   "execution_count": 5,
   "id": "c8854e8b-c654-4f2c-b267-9ad97a36ffcd",
   "metadata": {},
   "outputs": [
    {
     "data": {
      "text/html": [],
      "text/plain": [
       "<IPython.core.display.HTML object>"
      ]
     },
     "metadata": {},
     "output_type": "display_data"
    },
    {
     "data": {
      "text/html": [
       "<style type=\"text/css\">\n",
       "#T_0a491 th {\n",
       "  text-align: left;\n",
       "}\n",
       "#T_0a491_row0_col0, #T_0a491_row0_col4, #T_0a491_row1_col0, #T_0a491_row1_col1, #T_0a491_row1_col2, #T_0a491_row1_col3, #T_0a491_row1_col5, #T_0a491_row1_col6, #T_0a491_row1_col7, #T_0a491_row2_col0, #T_0a491_row2_col1, #T_0a491_row2_col2, #T_0a491_row2_col3, #T_0a491_row2_col4, #T_0a491_row2_col5, #T_0a491_row2_col6, #T_0a491_row2_col7, #T_0a491_row3_col0, #T_0a491_row3_col1, #T_0a491_row3_col2, #T_0a491_row3_col3, #T_0a491_row3_col4, #T_0a491_row3_col5, #T_0a491_row3_col6, #T_0a491_row3_col7 {\n",
       "  text-align: left;\n",
       "}\n",
       "#T_0a491_row0_col1, #T_0a491_row0_col2, #T_0a491_row0_col3, #T_0a491_row0_col5, #T_0a491_row0_col6, #T_0a491_row0_col7, #T_0a491_row1_col4 {\n",
       "  text-align: left;\n",
       "  background-color: yellow;\n",
       "}\n",
       "#T_0a491_row0_col8 {\n",
       "  text-align: left;\n",
       "  background-color: yellow;\n",
       "  background-color: lightgrey;\n",
       "}\n",
       "#T_0a491_row1_col8, #T_0a491_row2_col8, #T_0a491_row3_col8 {\n",
       "  text-align: left;\n",
       "  background-color: lightgrey;\n",
       "}\n",
       "</style>\n",
       "<table id=\"T_0a491\">\n",
       "  <thead>\n",
       "    <tr>\n",
       "      <th class=\"blank level0\" >&nbsp;</th>\n",
       "      <th id=\"T_0a491_level0_col0\" class=\"col_heading level0 col0\" >Model</th>\n",
       "      <th id=\"T_0a491_level0_col1\" class=\"col_heading level0 col1\" >Accuracy</th>\n",
       "      <th id=\"T_0a491_level0_col2\" class=\"col_heading level0 col2\" >AUC</th>\n",
       "      <th id=\"T_0a491_level0_col3\" class=\"col_heading level0 col3\" >Recall</th>\n",
       "      <th id=\"T_0a491_level0_col4\" class=\"col_heading level0 col4\" >Prec.</th>\n",
       "      <th id=\"T_0a491_level0_col5\" class=\"col_heading level0 col5\" >F1</th>\n",
       "      <th id=\"T_0a491_level0_col6\" class=\"col_heading level0 col6\" >Kappa</th>\n",
       "      <th id=\"T_0a491_level0_col7\" class=\"col_heading level0 col7\" >MCC</th>\n",
       "      <th id=\"T_0a491_level0_col8\" class=\"col_heading level0 col8\" >TT (Sec)</th>\n",
       "    </tr>\n",
       "  </thead>\n",
       "  <tbody>\n",
       "    <tr>\n",
       "      <th id=\"T_0a491_level0_row0\" class=\"row_heading level0 row0\" >lightgbm</th>\n",
       "      <td id=\"T_0a491_row0_col0\" class=\"data row0 col0\" >Light Gradient Boosting Machine</td>\n",
       "      <td id=\"T_0a491_row0_col1\" class=\"data row0 col1\" >0.8328</td>\n",
       "      <td id=\"T_0a491_row0_col2\" class=\"data row0 col2\" >0.8571</td>\n",
       "      <td id=\"T_0a491_row0_col3\" class=\"data row0 col3\" >0.7312</td>\n",
       "      <td id=\"T_0a491_row0_col4\" class=\"data row0 col4\" >0.8152</td>\n",
       "      <td id=\"T_0a491_row0_col5\" class=\"data row0 col5\" >0.7680</td>\n",
       "      <td id=\"T_0a491_row0_col6\" class=\"data row0 col6\" >0.6383</td>\n",
       "      <td id=\"T_0a491_row0_col7\" class=\"data row0 col7\" >0.6435</td>\n",
       "      <td id=\"T_0a491_row0_col8\" class=\"data row0 col8\" >0.0740</td>\n",
       "    </tr>\n",
       "    <tr>\n",
       "      <th id=\"T_0a491_level0_row1\" class=\"row_heading level0 row1\" >catboost</th>\n",
       "      <td id=\"T_0a491_row1_col0\" class=\"data row1 col0\" >CatBoost Classifier</td>\n",
       "      <td id=\"T_0a491_row1_col1\" class=\"data row1 col1\" >0.8216</td>\n",
       "      <td id=\"T_0a491_row1_col2\" class=\"data row1 col2\" >0.8569</td>\n",
       "      <td id=\"T_0a491_row1_col3\" class=\"data row1 col3\" >0.6723</td>\n",
       "      <td id=\"T_0a491_row1_col4\" class=\"data row1 col4\" >0.8311</td>\n",
       "      <td id=\"T_0a491_row1_col5\" class=\"data row1 col5\" >0.7409</td>\n",
       "      <td id=\"T_0a491_row1_col6\" class=\"data row1 col6\" >0.6076</td>\n",
       "      <td id=\"T_0a491_row1_col7\" class=\"data row1 col7\" >0.6174</td>\n",
       "      <td id=\"T_0a491_row1_col8\" class=\"data row1 col8\" >0.4870</td>\n",
       "    </tr>\n",
       "    <tr>\n",
       "      <th id=\"T_0a491_level0_row2\" class=\"row_heading level0 row2\" >rf</th>\n",
       "      <td id=\"T_0a491_row2_col0\" class=\"data row2 col0\" >Random Forest Classifier</td>\n",
       "      <td id=\"T_0a491_row2_col1\" class=\"data row2 col1\" >0.8006</td>\n",
       "      <td id=\"T_0a491_row2_col2\" class=\"data row2 col2\" >0.8397</td>\n",
       "      <td id=\"T_0a491_row2_col3\" class=\"data row2 col3\" >0.7062</td>\n",
       "      <td id=\"T_0a491_row2_col4\" class=\"data row2 col4\" >0.7611</td>\n",
       "      <td id=\"T_0a491_row2_col5\" class=\"data row2 col5\" >0.7299</td>\n",
       "      <td id=\"T_0a491_row2_col6\" class=\"data row2 col6\" >0.5725</td>\n",
       "      <td id=\"T_0a491_row2_col7\" class=\"data row2 col7\" >0.5761</td>\n",
       "      <td id=\"T_0a491_row2_col8\" class=\"data row2 col8\" >0.3740</td>\n",
       "    </tr>\n",
       "    <tr>\n",
       "      <th id=\"T_0a491_level0_row3\" class=\"row_heading level0 row3\" >lr</th>\n",
       "      <td id=\"T_0a491_row3_col0\" class=\"data row3 col0\" >Logistic Regression</td>\n",
       "      <td id=\"T_0a491_row3_col1\" class=\"data row3 col1\" >0.7877</td>\n",
       "      <td id=\"T_0a491_row3_col2\" class=\"data row3 col2\" >0.8511</td>\n",
       "      <td id=\"T_0a491_row3_col3\" class=\"data row3 col3\" >0.6471</td>\n",
       "      <td id=\"T_0a491_row3_col4\" class=\"data row3 col4\" >0.7666</td>\n",
       "      <td id=\"T_0a491_row3_col5\" class=\"data row3 col5\" >0.6985</td>\n",
       "      <td id=\"T_0a491_row3_col6\" class=\"data row3 col6\" >0.5370</td>\n",
       "      <td id=\"T_0a491_row3_col7\" class=\"data row3 col7\" >0.5441</td>\n",
       "      <td id=\"T_0a491_row3_col8\" class=\"data row3 col8\" >0.6300</td>\n",
       "    </tr>\n",
       "  </tbody>\n",
       "</table>\n"
      ],
      "text/plain": [
       "<pandas.io.formats.style.Styler at 0x22887ae5e90>"
      ]
     },
     "metadata": {},
     "output_type": "display_data"
    },
    {
     "data": {
      "application/vnd.jupyter.widget-view+json": {
       "model_id": "",
       "version_major": 2,
       "version_minor": 0
      },
      "text/plain": [
       "Processing:   0%|          | 0/21 [00:00<?, ?it/s]"
      ]
     },
     "metadata": {},
     "output_type": "display_data"
    },
    {
     "name": "stdout",
     "output_type": "stream",
     "text": [
      "Melhor modelo: LGBMClassifier(boosting_type='gbdt', class_weight=None, colsample_bytree=1.0,\n",
      "               importance_type='split', learning_rate=0.1, max_depth=-1,\n",
      "               min_child_samples=20, min_child_weight=0.001, min_split_gain=0.0,\n",
      "               n_estimators=100, n_jobs=-1, num_leaves=31, objective=None,\n",
      "               random_state=123, reg_alpha=0.0, reg_lambda=0.0, subsample=1.0,\n",
      "               subsample_for_bin=200000, subsample_freq=0)\n"
     ]
    }
   ],
   "source": [
    "# Comparar e obter o melhor modelo\n",
    "best_model = compare_models(include = ['lr', 'rf', 'lightgbm', 'catboost'])\n",
    "print(\"Melhor modelo:\", best_model)\n"
   ]
  },
  {
   "cell_type": "markdown",
   "id": "be2fbc7a-5c55-4575-b566-1657647ed08c",
   "metadata": {},
   "source": [
    "## Ajustar o Melhor Modelo\n",
    "Refine o melhor modelo encontrado automaticamente."
   ]
  },
  {
   "cell_type": "code",
   "execution_count": 6,
   "id": "82382f05-e1f6-4564-8213-78aa835f5c80",
   "metadata": {},
   "outputs": [
    {
     "data": {
      "text/html": [],
      "text/plain": [
       "<IPython.core.display.HTML object>"
      ]
     },
     "metadata": {},
     "output_type": "display_data"
    },
    {
     "data": {
      "text/html": [
       "<style type=\"text/css\">\n",
       "#T_51940_row10_col0, #T_51940_row10_col1, #T_51940_row10_col2, #T_51940_row10_col3, #T_51940_row10_col4, #T_51940_row10_col5, #T_51940_row10_col6 {\n",
       "  background: yellow;\n",
       "}\n",
       "</style>\n",
       "<table id=\"T_51940\">\n",
       "  <thead>\n",
       "    <tr>\n",
       "      <th class=\"blank level0\" >&nbsp;</th>\n",
       "      <th id=\"T_51940_level0_col0\" class=\"col_heading level0 col0\" >Accuracy</th>\n",
       "      <th id=\"T_51940_level0_col1\" class=\"col_heading level0 col1\" >AUC</th>\n",
       "      <th id=\"T_51940_level0_col2\" class=\"col_heading level0 col2\" >Recall</th>\n",
       "      <th id=\"T_51940_level0_col3\" class=\"col_heading level0 col3\" >Prec.</th>\n",
       "      <th id=\"T_51940_level0_col4\" class=\"col_heading level0 col4\" >F1</th>\n",
       "      <th id=\"T_51940_level0_col5\" class=\"col_heading level0 col5\" >Kappa</th>\n",
       "      <th id=\"T_51940_level0_col6\" class=\"col_heading level0 col6\" >MCC</th>\n",
       "    </tr>\n",
       "    <tr>\n",
       "      <th class=\"index_name level0\" >Fold</th>\n",
       "      <th class=\"blank col0\" >&nbsp;</th>\n",
       "      <th class=\"blank col1\" >&nbsp;</th>\n",
       "      <th class=\"blank col2\" >&nbsp;</th>\n",
       "      <th class=\"blank col3\" >&nbsp;</th>\n",
       "      <th class=\"blank col4\" >&nbsp;</th>\n",
       "      <th class=\"blank col5\" >&nbsp;</th>\n",
       "      <th class=\"blank col6\" >&nbsp;</th>\n",
       "    </tr>\n",
       "  </thead>\n",
       "  <tbody>\n",
       "    <tr>\n",
       "      <th id=\"T_51940_level0_row0\" class=\"row_heading level0 row0\" >0</th>\n",
       "      <td id=\"T_51940_row0_col0\" class=\"data row0 col0\" >0.8413</td>\n",
       "      <td id=\"T_51940_row0_col1\" class=\"data row0 col1\" >0.8168</td>\n",
       "      <td id=\"T_51940_row0_col2\" class=\"data row0 col2\" >0.7083</td>\n",
       "      <td id=\"T_51940_row0_col3\" class=\"data row0 col3\" >0.8500</td>\n",
       "      <td id=\"T_51940_row0_col4\" class=\"data row0 col4\" >0.7727</td>\n",
       "      <td id=\"T_51940_row0_col5\" class=\"data row0 col5\" >0.6523</td>\n",
       "      <td id=\"T_51940_row0_col6\" class=\"data row0 col6\" >0.6587</td>\n",
       "    </tr>\n",
       "    <tr>\n",
       "      <th id=\"T_51940_level0_row1\" class=\"row_heading level0 row1\" >1</th>\n",
       "      <td id=\"T_51940_row1_col0\" class=\"data row1 col0\" >0.7937</td>\n",
       "      <td id=\"T_51940_row1_col1\" class=\"data row1 col1\" >0.8050</td>\n",
       "      <td id=\"T_51940_row1_col2\" class=\"data row1 col2\" >0.6667</td>\n",
       "      <td id=\"T_51940_row1_col3\" class=\"data row1 col3\" >0.7619</td>\n",
       "      <td id=\"T_51940_row1_col4\" class=\"data row1 col4\" >0.7111</td>\n",
       "      <td id=\"T_51940_row1_col5\" class=\"data row1 col5\" >0.5517</td>\n",
       "      <td id=\"T_51940_row1_col6\" class=\"data row1 col6\" >0.5547</td>\n",
       "    </tr>\n",
       "    <tr>\n",
       "      <th id=\"T_51940_level0_row2\" class=\"row_heading level0 row2\" >2</th>\n",
       "      <td id=\"T_51940_row2_col0\" class=\"data row2 col0\" >0.8548</td>\n",
       "      <td id=\"T_51940_row2_col1\" class=\"data row2 col1\" >0.8919</td>\n",
       "      <td id=\"T_51940_row2_col2\" class=\"data row2 col2\" >0.6957</td>\n",
       "      <td id=\"T_51940_row2_col3\" class=\"data row2 col3\" >0.8889</td>\n",
       "      <td id=\"T_51940_row2_col4\" class=\"data row2 col4\" >0.7805</td>\n",
       "      <td id=\"T_51940_row2_col5\" class=\"data row2 col5\" >0.6744</td>\n",
       "      <td id=\"T_51940_row2_col6\" class=\"data row2 col6\" >0.6858</td>\n",
       "    </tr>\n",
       "    <tr>\n",
       "      <th id=\"T_51940_level0_row3\" class=\"row_heading level0 row3\" >3</th>\n",
       "      <td id=\"T_51940_row3_col0\" class=\"data row3 col0\" >0.8710</td>\n",
       "      <td id=\"T_51940_row3_col1\" class=\"data row3 col1\" >0.9008</td>\n",
       "      <td id=\"T_51940_row3_col2\" class=\"data row3 col2\" >0.7391</td>\n",
       "      <td id=\"T_51940_row3_col3\" class=\"data row3 col3\" >0.8947</td>\n",
       "      <td id=\"T_51940_row3_col4\" class=\"data row3 col4\" >0.8095</td>\n",
       "      <td id=\"T_51940_row3_col5\" class=\"data row3 col5\" >0.7133</td>\n",
       "      <td id=\"T_51940_row3_col6\" class=\"data row3 col6\" >0.7207</td>\n",
       "    </tr>\n",
       "    <tr>\n",
       "      <th id=\"T_51940_level0_row4\" class=\"row_heading level0 row4\" >4</th>\n",
       "      <td id=\"T_51940_row4_col0\" class=\"data row4 col0\" >0.7742</td>\n",
       "      <td id=\"T_51940_row4_col1\" class=\"data row4 col1\" >0.8268</td>\n",
       "      <td id=\"T_51940_row4_col2\" class=\"data row4 col2\" >0.5833</td>\n",
       "      <td id=\"T_51940_row4_col3\" class=\"data row4 col3\" >0.7778</td>\n",
       "      <td id=\"T_51940_row4_col4\" class=\"data row4 col4\" >0.6667</td>\n",
       "      <td id=\"T_51940_row4_col5\" class=\"data row4 col5\" >0.5011</td>\n",
       "      <td id=\"T_51940_row4_col6\" class=\"data row4 col6\" >0.5130</td>\n",
       "    </tr>\n",
       "    <tr>\n",
       "      <th id=\"T_51940_level0_row5\" class=\"row_heading level0 row5\" >5</th>\n",
       "      <td id=\"T_51940_row5_col0\" class=\"data row5 col0\" >0.7097</td>\n",
       "      <td id=\"T_51940_row5_col1\" class=\"data row5 col1\" >0.7626</td>\n",
       "      <td id=\"T_51940_row5_col2\" class=\"data row5 col2\" >0.5000</td>\n",
       "      <td id=\"T_51940_row5_col3\" class=\"data row5 col3\" >0.6667</td>\n",
       "      <td id=\"T_51940_row5_col4\" class=\"data row5 col4\" >0.5714</td>\n",
       "      <td id=\"T_51940_row5_col5\" class=\"data row5 col5\" >0.3586</td>\n",
       "      <td id=\"T_51940_row5_col6\" class=\"data row5 col6\" >0.3671</td>\n",
       "    </tr>\n",
       "    <tr>\n",
       "      <th id=\"T_51940_level0_row6\" class=\"row_heading level0 row6\" >6</th>\n",
       "      <td id=\"T_51940_row6_col0\" class=\"data row6 col0\" >0.8710</td>\n",
       "      <td id=\"T_51940_row6_col1\" class=\"data row6 col1\" >0.9117</td>\n",
       "      <td id=\"T_51940_row6_col2\" class=\"data row6 col2\" >0.7083</td>\n",
       "      <td id=\"T_51940_row6_col3\" class=\"data row6 col3\" >0.9444</td>\n",
       "      <td id=\"T_51940_row6_col4\" class=\"data row6 col4\" >0.8095</td>\n",
       "      <td id=\"T_51940_row6_col5\" class=\"data row6 col5\" >0.7149</td>\n",
       "      <td id=\"T_51940_row6_col6\" class=\"data row6 col6\" >0.7319</td>\n",
       "    </tr>\n",
       "    <tr>\n",
       "      <th id=\"T_51940_level0_row7\" class=\"row_heading level0 row7\" >7</th>\n",
       "      <td id=\"T_51940_row7_col0\" class=\"data row7 col0\" >0.7581</td>\n",
       "      <td id=\"T_51940_row7_col1\" class=\"data row7 col1\" >0.8503</td>\n",
       "      <td id=\"T_51940_row7_col2\" class=\"data row7 col2\" >0.7083</td>\n",
       "      <td id=\"T_51940_row7_col3\" class=\"data row7 col3\" >0.6800</td>\n",
       "      <td id=\"T_51940_row7_col4\" class=\"data row7 col4\" >0.6939</td>\n",
       "      <td id=\"T_51940_row7_col5\" class=\"data row7 col5\" >0.4940</td>\n",
       "      <td id=\"T_51940_row7_col6\" class=\"data row7 col6\" >0.4943</td>\n",
       "    </tr>\n",
       "    <tr>\n",
       "      <th id=\"T_51940_level0_row8\" class=\"row_heading level0 row8\" >8</th>\n",
       "      <td id=\"T_51940_row8_col0\" class=\"data row8 col0\" >0.8387</td>\n",
       "      <td id=\"T_51940_row8_col1\" class=\"data row8 col1\" >0.9139</td>\n",
       "      <td id=\"T_51940_row8_col2\" class=\"data row8 col2\" >0.7917</td>\n",
       "      <td id=\"T_51940_row8_col3\" class=\"data row8 col3\" >0.7917</td>\n",
       "      <td id=\"T_51940_row8_col4\" class=\"data row8 col4\" >0.7917</td>\n",
       "      <td id=\"T_51940_row8_col5\" class=\"data row8 col5\" >0.6601</td>\n",
       "      <td id=\"T_51940_row8_col6\" class=\"data row8 col6\" >0.6601</td>\n",
       "    </tr>\n",
       "    <tr>\n",
       "      <th id=\"T_51940_level0_row9\" class=\"row_heading level0 row9\" >9</th>\n",
       "      <td id=\"T_51940_row9_col0\" class=\"data row9 col0\" >0.8387</td>\n",
       "      <td id=\"T_51940_row9_col1\" class=\"data row9 col1\" >0.8706</td>\n",
       "      <td id=\"T_51940_row9_col2\" class=\"data row9 col2\" >0.7917</td>\n",
       "      <td id=\"T_51940_row9_col3\" class=\"data row9 col3\" >0.7917</td>\n",
       "      <td id=\"T_51940_row9_col4\" class=\"data row9 col4\" >0.7917</td>\n",
       "      <td id=\"T_51940_row9_col5\" class=\"data row9 col5\" >0.6601</td>\n",
       "      <td id=\"T_51940_row9_col6\" class=\"data row9 col6\" >0.6601</td>\n",
       "    </tr>\n",
       "    <tr>\n",
       "      <th id=\"T_51940_level0_row10\" class=\"row_heading level0 row10\" >Mean</th>\n",
       "      <td id=\"T_51940_row10_col0\" class=\"data row10 col0\" >0.8151</td>\n",
       "      <td id=\"T_51940_row10_col1\" class=\"data row10 col1\" >0.8550</td>\n",
       "      <td id=\"T_51940_row10_col2\" class=\"data row10 col2\" >0.6893</td>\n",
       "      <td id=\"T_51940_row10_col3\" class=\"data row10 col3\" >0.8048</td>\n",
       "      <td id=\"T_51940_row10_col4\" class=\"data row10 col4\" >0.7399</td>\n",
       "      <td id=\"T_51940_row10_col5\" class=\"data row10 col5\" >0.5981</td>\n",
       "      <td id=\"T_51940_row10_col6\" class=\"data row10 col6\" >0.6046</td>\n",
       "    </tr>\n",
       "    <tr>\n",
       "      <th id=\"T_51940_level0_row11\" class=\"row_heading level0 row11\" >Std</th>\n",
       "      <td id=\"T_51940_row11_col0\" class=\"data row11 col0\" >0.0511</td>\n",
       "      <td id=\"T_51940_row11_col1\" class=\"data row11 col1\" >0.0487</td>\n",
       "      <td id=\"T_51940_row11_col2\" class=\"data row11 col2\" >0.0849</td>\n",
       "      <td id=\"T_51940_row11_col3\" class=\"data row11 col3\" >0.0862</td>\n",
       "      <td id=\"T_51940_row11_col4\" class=\"data row11 col4\" >0.0738</td>\n",
       "      <td id=\"T_51940_row11_col5\" class=\"data row11 col5\" >0.1110</td>\n",
       "      <td id=\"T_51940_row11_col6\" class=\"data row11 col6\" >0.1117</td>\n",
       "    </tr>\n",
       "  </tbody>\n",
       "</table>\n"
      ],
      "text/plain": [
       "<pandas.io.formats.style.Styler at 0x228890b4450>"
      ]
     },
     "metadata": {},
     "output_type": "display_data"
    },
    {
     "data": {
      "application/vnd.jupyter.widget-view+json": {
       "model_id": "",
       "version_major": 2,
       "version_minor": 0
      },
      "text/plain": [
       "Processing:   0%|          | 0/7 [00:00<?, ?it/s]"
      ]
     },
     "metadata": {},
     "output_type": "display_data"
    },
    {
     "name": "stdout",
     "output_type": "stream",
     "text": [
      "Fitting 10 folds for each of 10 candidates, totalling 100 fits\n",
      "Original model was better than the tuned model, hence it will be returned. NOTE: The display metrics are for the tuned model (not the original one).\n"
     ]
    }
   ],
   "source": [
    "# Ajustar o modelo\n",
    "tuned_model = tune_model(best_model)\n"
   ]
  },
  {
   "cell_type": "markdown",
   "id": "b5cd20a3-167f-4d84-9809-c17fcc8a6c0a",
   "metadata": {},
   "source": [
    "## Finalizar e Fazer Previsões\n",
    "Finalize o modelo e faça previsões nos dados de teste."
   ]
  },
  {
   "cell_type": "code",
   "execution_count": 7,
   "id": "62da9338-ba16-445e-aa4a-de8ff644cfc2",
   "metadata": {},
   "outputs": [],
   "source": [
    "# Finalizar o modelo\n",
    "final_model = finalize_model(tuned_model)"
   ]
  },
  {
   "cell_type": "code",
   "execution_count": 8,
   "id": "da84ecff-b91d-4d0d-8bba-d5e8453cb271",
   "metadata": {},
   "outputs": [
    {
     "data": {
      "text/html": [
       "<style type=\"text/css\">\n",
       "</style>\n",
       "<table id=\"T_2995b\">\n",
       "  <thead>\n",
       "    <tr>\n",
       "      <th class=\"blank level0\" >&nbsp;</th>\n",
       "      <th id=\"T_2995b_level0_col0\" class=\"col_heading level0 col0\" >Model</th>\n",
       "      <th id=\"T_2995b_level0_col1\" class=\"col_heading level0 col1\" >Accuracy</th>\n",
       "      <th id=\"T_2995b_level0_col2\" class=\"col_heading level0 col2\" >AUC</th>\n",
       "      <th id=\"T_2995b_level0_col3\" class=\"col_heading level0 col3\" >Recall</th>\n",
       "      <th id=\"T_2995b_level0_col4\" class=\"col_heading level0 col4\" >Prec.</th>\n",
       "      <th id=\"T_2995b_level0_col5\" class=\"col_heading level0 col5\" >F1</th>\n",
       "      <th id=\"T_2995b_level0_col6\" class=\"col_heading level0 col6\" >Kappa</th>\n",
       "      <th id=\"T_2995b_level0_col7\" class=\"col_heading level0 col7\" >MCC</th>\n",
       "    </tr>\n",
       "  </thead>\n",
       "  <tbody>\n",
       "    <tr>\n",
       "      <th id=\"T_2995b_level0_row0\" class=\"row_heading level0 row0\" >0</th>\n",
       "      <td id=\"T_2995b_row0_col0\" class=\"data row0 col0\" >Light Gradient Boosting Machine</td>\n",
       "      <td id=\"T_2995b_row0_col1\" class=\"data row0 col1\" >0.8876</td>\n",
       "      <td id=\"T_2995b_row0_col2\" class=\"data row0 col2\" >0.9578</td>\n",
       "      <td id=\"T_2995b_row0_col3\" class=\"data row0 col3\" >0.8137</td>\n",
       "      <td id=\"T_2995b_row0_col4\" class=\"data row0 col4\" >0.8830</td>\n",
       "      <td id=\"T_2995b_row0_col5\" class=\"data row0 col5\" >0.8469</td>\n",
       "      <td id=\"T_2995b_row0_col6\" class=\"data row0 col6\" >0.7584</td>\n",
       "      <td id=\"T_2995b_row0_col7\" class=\"data row0 col7\" >0.7600</td>\n",
       "    </tr>\n",
       "  </tbody>\n",
       "</table>\n"
      ],
      "text/plain": [
       "<pandas.io.formats.style.Styler at 0x228890ec9d0>"
      ]
     },
     "metadata": {},
     "output_type": "display_data"
    },
    {
     "data": {
      "text/html": [
       "<div>\n",
       "<style scoped>\n",
       "    .dataframe tbody tr th:only-of-type {\n",
       "        vertical-align: middle;\n",
       "    }\n",
       "\n",
       "    .dataframe tbody tr th {\n",
       "        vertical-align: top;\n",
       "    }\n",
       "\n",
       "    .dataframe thead th {\n",
       "        text-align: right;\n",
       "    }\n",
       "</style>\n",
       "<table border=\"1\" class=\"dataframe\">\n",
       "  <thead>\n",
       "    <tr style=\"text-align: right;\">\n",
       "      <th></th>\n",
       "      <th>Sex_bin</th>\n",
       "      <th>SibSp</th>\n",
       "      <th>Parch</th>\n",
       "      <th>Fare</th>\n",
       "      <th>Class_1</th>\n",
       "      <th>Class_2</th>\n",
       "      <th>Class_3</th>\n",
       "      <th>AgeCategory_bin</th>\n",
       "      <th>Survived</th>\n",
       "      <th>prediction_label</th>\n",
       "      <th>prediction_score</th>\n",
       "    </tr>\n",
       "  </thead>\n",
       "  <tbody>\n",
       "    <tr>\n",
       "      <th>853</th>\n",
       "      <td>1</td>\n",
       "      <td>0</td>\n",
       "      <td>1</td>\n",
       "      <td>9.350000</td>\n",
       "      <td>False</td>\n",
       "      <td>False</td>\n",
       "      <td>True</td>\n",
       "      <td>1</td>\n",
       "      <td>1</td>\n",
       "      <td>1</td>\n",
       "      <td>0.5848</td>\n",
       "    </tr>\n",
       "    <tr>\n",
       "      <th>177</th>\n",
       "      <td>0</td>\n",
       "      <td>0</td>\n",
       "      <td>0</td>\n",
       "      <td>13.000000</td>\n",
       "      <td>False</td>\n",
       "      <td>True</td>\n",
       "      <td>False</td>\n",
       "      <td>1</td>\n",
       "      <td>0</td>\n",
       "      <td>0</td>\n",
       "      <td>0.8673</td>\n",
       "    </tr>\n",
       "    <tr>\n",
       "      <th>119</th>\n",
       "      <td>0</td>\n",
       "      <td>2</td>\n",
       "      <td>0</td>\n",
       "      <td>73.500000</td>\n",
       "      <td>False</td>\n",
       "      <td>True</td>\n",
       "      <td>False</td>\n",
       "      <td>1</td>\n",
       "      <td>0</td>\n",
       "      <td>0</td>\n",
       "      <td>0.9566</td>\n",
       "    </tr>\n",
       "    <tr>\n",
       "      <th>698</th>\n",
       "      <td>0</td>\n",
       "      <td>0</td>\n",
       "      <td>0</td>\n",
       "      <td>7.650000</td>\n",
       "      <td>False</td>\n",
       "      <td>False</td>\n",
       "      <td>True</td>\n",
       "      <td>1</td>\n",
       "      <td>0</td>\n",
       "      <td>0</td>\n",
       "      <td>0.9921</td>\n",
       "    </tr>\n",
       "    <tr>\n",
       "      <th>737</th>\n",
       "      <td>0</td>\n",
       "      <td>0</td>\n",
       "      <td>0</td>\n",
       "      <td>7.895800</td>\n",
       "      <td>False</td>\n",
       "      <td>False</td>\n",
       "      <td>True</td>\n",
       "      <td>1</td>\n",
       "      <td>0</td>\n",
       "      <td>0</td>\n",
       "      <td>0.9751</td>\n",
       "    </tr>\n",
       "    <tr>\n",
       "      <th>...</th>\n",
       "      <td>...</td>\n",
       "      <td>...</td>\n",
       "      <td>...</td>\n",
       "      <td>...</td>\n",
       "      <td>...</td>\n",
       "      <td>...</td>\n",
       "      <td>...</td>\n",
       "      <td>...</td>\n",
       "      <td>...</td>\n",
       "      <td>...</td>\n",
       "      <td>...</td>\n",
       "    </tr>\n",
       "    <tr>\n",
       "      <th>429</th>\n",
       "      <td>0</td>\n",
       "      <td>0</td>\n",
       "      <td>0</td>\n",
       "      <td>26.549999</td>\n",
       "      <td>True</td>\n",
       "      <td>False</td>\n",
       "      <td>False</td>\n",
       "      <td>1</td>\n",
       "      <td>1</td>\n",
       "      <td>1</td>\n",
       "      <td>0.5280</td>\n",
       "    </tr>\n",
       "    <tr>\n",
       "      <th>310</th>\n",
       "      <td>1</td>\n",
       "      <td>2</td>\n",
       "      <td>2</td>\n",
       "      <td>262.375000</td>\n",
       "      <td>True</td>\n",
       "      <td>False</td>\n",
       "      <td>False</td>\n",
       "      <td>1</td>\n",
       "      <td>1</td>\n",
       "      <td>1</td>\n",
       "      <td>0.8679</td>\n",
       "    </tr>\n",
       "    <tr>\n",
       "      <th>651</th>\n",
       "      <td>0</td>\n",
       "      <td>0</td>\n",
       "      <td>0</td>\n",
       "      <td>8.433300</td>\n",
       "      <td>False</td>\n",
       "      <td>False</td>\n",
       "      <td>True</td>\n",
       "      <td>1</td>\n",
       "      <td>0</td>\n",
       "      <td>0</td>\n",
       "      <td>0.9355</td>\n",
       "    </tr>\n",
       "    <tr>\n",
       "      <th>541</th>\n",
       "      <td>1</td>\n",
       "      <td>4</td>\n",
       "      <td>2</td>\n",
       "      <td>31.275000</td>\n",
       "      <td>False</td>\n",
       "      <td>False</td>\n",
       "      <td>True</td>\n",
       "      <td>0</td>\n",
       "      <td>0</td>\n",
       "      <td>0</td>\n",
       "      <td>0.8911</td>\n",
       "    </tr>\n",
       "    <tr>\n",
       "      <th>513</th>\n",
       "      <td>0</td>\n",
       "      <td>0</td>\n",
       "      <td>0</td>\n",
       "      <td>7.495800</td>\n",
       "      <td>False</td>\n",
       "      <td>False</td>\n",
       "      <td>True</td>\n",
       "      <td>1</td>\n",
       "      <td>0</td>\n",
       "      <td>0</td>\n",
       "      <td>0.9836</td>\n",
       "    </tr>\n",
       "  </tbody>\n",
       "</table>\n",
       "<p>267 rows × 11 columns</p>\n",
       "</div>"
      ],
      "text/plain": [
       "     Sex_bin  SibSp  Parch        Fare  Class_1  Class_2  Class_3  \\\n",
       "853        1      0      1    9.350000    False    False     True   \n",
       "177        0      0      0   13.000000    False     True    False   \n",
       "119        0      2      0   73.500000    False     True    False   \n",
       "698        0      0      0    7.650000    False    False     True   \n",
       "737        0      0      0    7.895800    False    False     True   \n",
       "..       ...    ...    ...         ...      ...      ...      ...   \n",
       "429        0      0      0   26.549999     True    False    False   \n",
       "310        1      2      2  262.375000     True    False    False   \n",
       "651        0      0      0    8.433300    False    False     True   \n",
       "541        1      4      2   31.275000    False    False     True   \n",
       "513        0      0      0    7.495800    False    False     True   \n",
       "\n",
       "     AgeCategory_bin  Survived  prediction_label  prediction_score  \n",
       "853                1         1                 1            0.5848  \n",
       "177                1         0                 0            0.8673  \n",
       "119                1         0                 0            0.9566  \n",
       "698                1         0                 0            0.9921  \n",
       "737                1         0                 0            0.9751  \n",
       "..               ...       ...               ...               ...  \n",
       "429                1         1                 1            0.5280  \n",
       "310                1         1                 1            0.8679  \n",
       "651                1         0                 0            0.9355  \n",
       "541                0         0                 0            0.8911  \n",
       "513                1         0                 0            0.9836  \n",
       "\n",
       "[267 rows x 11 columns]"
      ]
     },
     "execution_count": 8,
     "metadata": {},
     "output_type": "execute_result"
    }
   ],
   "source": [
    "# Fazer previsões\n",
    "predictions = predict_model(final_model)\n",
    "predictions\n",
    "\n",
    "## Prediction Label\n",
    "# Para problemas binários, o prediction_score indica a probabilidade associada à classe positiva. Por exemplo:\n",
    "# Se o modelo prever 1, o prediction_score mostrará a probabilidade de que a amostra pertence à classe 1.\n",
    "# Se o modelo prever 0, o valor será a probabilidade de que a amostra pertence à classe 0."
   ]
  },
  {
   "cell_type": "markdown",
   "id": "e43a5fac-7260-4de9-b6fe-fe2f462e60ca",
   "metadata": {},
   "source": [
    "## Salvar e Reutilizar o Modelo\n",
    "Salve o modelo treinado para uso futuro."
   ]
  },
  {
   "cell_type": "code",
   "execution_count": 9,
   "id": "56d285be-89a5-4a05-8fea-877d60ef53b7",
   "metadata": {},
   "outputs": [
    {
     "name": "stdout",
     "output_type": "stream",
     "text": [
      "Transformation Pipeline and Model Successfully Saved\n",
      "Transformation Pipeline and Model Successfully Loaded\n"
     ]
    }
   ],
   "source": [
    "# Salvar o modelo\n",
    "save_model(final_model, 'melhor_modelo_pycaret')\n",
    "\n",
    "# Carregar o modelo salvo\n",
    "loaded_model = load_model('melhor_modelo_pycaret')\n"
   ]
  },
  {
   "cell_type": "markdown",
   "id": "5b9d1865-9c65-486a-a28c-047a9e82feeb",
   "metadata": {},
   "source": [
    "# Explicabilidade"
   ]
  },
  {
   "cell_type": "code",
   "execution_count": 10,
   "id": "fb92e9e0-e70d-4124-a9cf-d2098c525684",
   "metadata": {},
   "outputs": [
    {
     "data": {
      "text/html": [],
      "text/plain": [
       "<IPython.core.display.HTML object>"
      ]
     },
     "metadata": {},
     "output_type": "display_data"
    },
    {
     "data": {
      "image/png": "[encoded data removed]",
      "text/plain": [
       "<Figure size 800x500 with 1 Axes>"
      ]
     },
     "metadata": {},
     "output_type": "display_data"
    }
   ],
   "source": [
    "# Feature Importance -  Importância das features\n",
    "plot_model(best_model, plot='feature')  # Gráfico de importância das variáveis"
   ]
  },
  {
   "cell_type": "code",
   "execution_count": null,
   "id": "1b7241c5-69a5-4781-8133-0c79e38afb12",
   "metadata": {},
   "outputs": [],
   "source": [
    "# Remova o comentário da celula abaixo caso"
   ]
  },
  {
   "cell_type": "code",
   "execution_count": 19,
   "id": "b9899660-aa88-4cf5-b686-3ea6669c0764",
   "metadata": {},
   "outputs": [],
   "source": [
    "# pip install torch torchvision torchaudio --index-url https://download.pytorch.org/whl/cpu"
   ]
  },
  {
   "cell_type": "code",
   "execution_count": 20,
   "id": "351b4d71-8d3f-4e7f-8fde-b60dc6673e4b",
   "metadata": {
    "scrolled": true
   },
   "outputs": [],
   "source": [
    "#pip install --upgrade shap"
   ]
  },
  {
   "cell_type": "markdown",
   "id": "ed8e92b5-d12c-401c-bcbe-0237d72cd923",
   "metadata": {},
   "source": [
    "Interpretação do Gráfico\n",
    "**Eixo Y (Features):** <br>\n",
    "Cada linha representa uma feature do modelo, como Sex_bin, Fare, Class_3, etc.\n",
    "As features são classificadas por ordem de importância (de cima para baixo).\n",
    "<br> <br>\n",
    "**Eixo X (SHAP Value):**<br>\n",
    "O valor SHAP mostra o impacto de cada variável na predição.\n",
    "Valores positivos (à direita) indicam que a feature aumenta a probabilidade da classe prevista.\n",
    "Valores negativos (à esquerda) indicam que a feature reduz a probabilidade da classe prevista.\n",
    "<br> <br>\n",
    "**Cores (Feature Value):** <br> \n",
    "As cores representam os valores das features:\n",
    "Azul: Valores baixos da feature.\n",
    "Rosa/vermelho: Valores altos da feature.\n",
    "<br> <br>\n",
    "**Pontos:** <br>\n",
    "Cada ponto representa uma observação no dataset.\n",
    "A dispersão horizontal mostra como a importância da feature varia entre as observações."
   ]
  },
  {
   "cell_type": "code",
   "execution_count": 18,
   "id": "6f76f263-e81b-4f00-8693-6a1efaf000a6",
   "metadata": {},
   "outputs": [
    {
     "data": {
      "image/png": "[encoded data removed]",
      "text/plain": [
       "<Figure size 800x470 with 2 Axes>"
      ]
     },
     "metadata": {},
     "output_type": "display_data"
    }
   ],
   "source": [
    "import shap\n",
    "\n",
    "# # Criação do gráfico SHAP\n",
    "interpret_model(best_model, plot='summary')  # Sumário SHAP integrado no PyCaret\n"
   ]
  },
  {
   "cell_type": "markdown",
   "id": "eb891f6e-3305-49db-9d6e-35a9d2e380db",
   "metadata": {},
   "source": [
    "**Sex_bin:**<br>\n",
    "A variável Sex_bin (0 para masculino e 1 para feminino) é a mais impactante.\n",
    "Valores altos (vermelhos) aumentam a probabilidade da classe positiva (sobrevivência).\n",
    "<br><br>\n",
    "**Fare:**<br>\n",
    "Valores altos da tarifa (Fare) também aumentam a probabilidade de sobrevivência, enquanto valores baixos a reduzem.\n",
    "<br><br>\n",
    "**Class_3:**<br>\n",
    "Pertencer à terceira classe tem um impacto negativo na sobrevivência (valores vermelhos estão à esquerda).\n",
    "<br><br>\n",
    "**AgeCategory_bin:**<br>\n",
    "A idade binarizada parece ter um impacto menor comparado às variáveis acima.\n",
    "<br><br>"
   ]
  },
  {
   "cell_type": "markdown",
   "id": "e5800f3c-c2f9-4eed-ac13-83825e598b64",
   "metadata": {},
   "source": [
    "# PandasGUI"
   ]
  },
  {
   "cell_type": "code",
   "execution_count": null,
   "id": "7d9818f8-106e-4495-b237-ee9a0fde212f",
   "metadata": {},
   "outputs": [],
   "source": [
    "pip install pandasgui"
   ]
  },
  {
   "cell_type": "code",
   "execution_count": null,
   "id": "8f3e1d61-d564-4edf-a9b7-6860fce9951d",
   "metadata": {},
   "outputs": [],
   "source": [
    "import pandas as pd\n",
    "from pandasgui import show\n",
    "\n",
    "# Carregar seu DataFrame\n",
    "df = pd.read_csv('data/titanic.csv')\n",
    "\n",
    "# Iniciar a interface do PandasGUI\n",
    "show(df)\n"
   ]
  },
  {
   "cell_type": "code",
   "execution_count": null,
   "id": "d7a8176b-ef40-4bae-9d13-418ce0e1126e",
   "metadata": {},
   "outputs": [],
   "source": []
  }
 ],
 "metadata": {
  "kernelspec": {
   "display_name": "Python 3 (ipykernel)",
   "language": "python",
   "name": "python3"
  },
  "language_info": {
   "codemirror_mode": {
    "name": "ipython",
    "version": 3
   },
   "file_extension": ".py",
   "mimetype": "text/x-python",
   "name": "python",
   "nbconvert_exporter": "python",
   "pygments_lexer": "ipython3",
   "version": "3.11.9"
  }
 },
 "nbformat": 4,
 "nbformat_minor": 5
}
